{
 "cells": [
  {
   "cell_type": "code",
   "execution_count": 1,
   "metadata": {},
   "outputs": [],
   "source": [
    "import os\n",
    "import glob\n",
    "import uproot\n",
    "import matplotlib as mpl\n",
    "# mpl.rcParams['figure.dpi'] = 150\n",
    "\n",
    "import operator\n",
    "import seaborn as sns\n",
    "import numpy as np\n",
    "import matplotlib.pyplot as plt\n",
    "from matplotlib.colors import LogNorm\n",
    "\n",
    "from IPython.display import clear_output\n",
    "from ipywidgets import interact, interactive, fixed, interact_manual, widgets\n",
    "from ipyfilechooser import FileChooser\n",
    "from ordered_set import OrderedSet\n",
    "from plotting_utils import get_results, Result#, plot_results\n",
    "\n",
    "%matplotlib inline\n"
   ]
  },
  {
   "cell_type": "code",
   "execution_count": 2,
   "metadata": {},
   "outputs": [],
   "source": [
    "def plot_results(results, name, log):\n",
    "\n",
    "    vevds = OrderedSet([r.vevd for r in sorted(results, key=operator.attrgetter('vevd'), reverse=True)])\n",
    "    mdpps = OrderedSet([r.mdpp for r in sorted(results, key=operator.attrgetter('mdpp'))])\n",
    "\n",
    "    hmap = []\n",
    "    \n",
    "    print(vevds)\n",
    "\n",
    "    for v in vevds:\n",
    "        results_msorted = sorted(results, key=operator.attrgetter('mdpp'))\n",
    "        hmap.append([r.quantity for r in results_msorted if r.vevd == v])\n",
    "        \n",
    "    hmap = np.array(hmap, dtype=float)\n",
    "\n",
    "    fig, ax = plt.subplots()\n",
    "    if log:\n",
    "        sns.heatmap(hmap, annot=True, cmap=\"Oranges\", xticklabels=mdpps, yticklabels=vevds, ax=ax,\n",
    "                    fmt=\".2\", norm=LogNorm(), annot_kws={\"size\": 15 / np.sqrt(len(hmap))},\n",
    "                    cbar_kws={'label': name});\n",
    "    if not log:\n",
    "        sns.heatmap(hmap, annot=True, cmap=\"Oranges\", xticklabels=mdpps, yticklabels=vevds, ax=ax,\n",
    "                    annot_kws={\"size\": 15 / np.sqrt(len(hmap))},\n",
    "                    cbar_kws={'label': name});\n",
    "\n",
    "    ax.set_xlabel(r\"$M_{\\Delta^{\\pm\\pm}}$ [GeV]\");\n",
    "    ax.set_ylabel(r\"vevD [GeV]\");"
   ]
  },
  {
   "cell_type": "code",
   "execution_count": 3,
   "metadata": {},
   "outputs": [
    {
     "data": {
      "application/vnd.jupyter.widget-view+json": {
       "model_id": "104a9e23c1564f7ab9c0c657f88df6f9",
       "version_major": 2,
       "version_minor": 0
      },
      "text/plain": [
       "interactive(children=(Dropdown(description='sample_folder', options=('../multirun/2023-03-13_typeII_single_pro…"
      ]
     },
     "metadata": {},
     "output_type": "display_data"
    }
   ],
   "source": [
    "def select(sample_folder, variable, log):\n",
    "    results = get_results(sample_folder, variable);\n",
    "    plot_results(results, variable, log);\n",
    "\n",
    "runs = glob.glob(\"../multirun/*\")\n",
    "choices = [\"total_xs\", \"total_xs_error\", \"sum_of_weights\", \"sum_of_weights_err\", \"fid_sum_of_weights\", \"fid_sum_of_weights_err\", \"fid_xs\", \"fid_xs_err\", \"nsurvive_events\", \"ninit_events\",  \"presel_eff\",   \"cutflow\"]\n",
    "\n",
    "interact(select, sample_folder=runs, variable=choices, log=[True, False]);"
   ]
  },
  {
   "cell_type": "code",
   "execution_count": 4,
   "metadata": {},
   "outputs": [],
   "source": [
    "\n",
    "def get_vevs_and_masses(sample_folder):\n",
    "    folders = [p for p in glob.glob(f\"{sample_folder}/*\") if os.path.isdir(p)]\n",
    "    vevds = []\n",
    "    mdpps = []\n",
    "    for fpath in folders:\n",
    "        split_path = os.path.basename(fpath).split(\"_\")\n",
    "        vevds.append(float(split_path[-1]))\n",
    "        mdpps.append(float(split_path[-2]))\n",
    "    \n",
    "    vevds.sort()\n",
    "    mdpps.sort()\n",
    "    vevds = OrderedSet(vevds)\n",
    "    mdpps = OrderedSet(mdpps)\n",
    "    \n",
    "    return vevds, mdpps\n",
    "\n",
    "\n"
   ]
  },
  {
   "cell_type": "code",
   "execution_count": 11,
   "metadata": {},
   "outputs": [],
   "source": [
    "out = widgets.Output()\n",
    "\n",
    "class PlotSampleFolderWidget(widgets.HBox):\n",
    "\n",
    "    def __init__(self):\n",
    "        \n",
    "        self.results = []\n",
    "        self.avail_branches = []\n",
    "        self.out_widg = widgets.Output()\n",
    "        \n",
    "        self.file_widg = FileChooser(\"../\", show_only_dirs=True)\n",
    "        self.vevd_widg = widgets.SelectMultiple( description='vevd', disabled=False)\n",
    "        self.mass_widg = widgets.SelectMultiple( description='masses', disabled=False)\n",
    "        self.branch_widg = widgets.SelectMultiple( description='observable', disabled=False)\n",
    "        \n",
    "        self.norm_widg = widgets.RadioButtons(options=['Unity', 'Xsec', 'None'], value='Unity', description='Normalisation', disabled=False)\n",
    "        \n",
    "        self.plot_widg = widgets.Button(description=\"Plot\")\n",
    "        self.plot_widg.on_click(self._plot)\n",
    "        \n",
    "        display(self.out_widg)\n",
    "\n",
    "        self.selectors = [self.file_widg, self.vevd_widg, self.mass_widg, self.branch_widg, self.norm_widg, self.plot_widg]\n",
    "        super().__init__(children=self.selectors)\n",
    "\n",
    "        self._update_sample_path()    \n",
    "        self.file_widg.register_callback(self._set_observes)\n",
    "        self._set_observes()\n",
    "\n",
    "    def _plot(self, b):\n",
    "        self.plot_selection()\n",
    "\n",
    "    def _update_sample_path(self):\n",
    "        self.file_widg.refresh()\n",
    "        self.results = []\n",
    "        self.sample_folder = self.file_widg.selected_path\n",
    "        self.vevds, self.masses = get_vevs_and_masses(self.sample_folder)\n",
    "\n",
    "        self.vevd_widg.options = self.vevds\n",
    "        self.mass_widg.options = self.masses\n",
    "\n",
    "        root_files = glob.glob(f\"{self.sample_folder}/*/output.root\")\n",
    "        \n",
    "        for fpath in root_files:\n",
    "            split_path = os.path.basename(os.path.dirname(fpath)).split(\"_\")\n",
    "            vevd = float(split_path[-1])\n",
    "            mass = float(split_path[-2])\n",
    "\n",
    "            if vevd in self.vevd_widg.get_interact_value() and mass in self.mass_widg.get_interact_value():\n",
    "                self.results.append(Result(vevd, mass, file=fpath))\n",
    "        \n",
    "        if len(root_files) != 0:\n",
    "            data = uproot.open(f\"{root_files[0]}:tree\")\n",
    "            self.avail_branches = list(data.keys())\n",
    "            self.branch_widg.options = self.avail_branches\n",
    "\n",
    "    def _set_observes(self):\n",
    "        self._update_sample_path()\n",
    "\n",
    "        for widg in self.selectors:\n",
    "            widg.observe(self._observed_function, names='value')\n",
    "\n",
    "\n",
    "    def _observed_function(self, widg):\n",
    "        self.sample_folder = self.file_widg.selected_path\n",
    "        self._update_sample_path()\n",
    "\n",
    "    def plot_selection(self):\n",
    "\n",
    "        root_files = [r.file for r in self.results]\n",
    "\n",
    "        if len(root_files) == 0: return\n",
    "\n",
    "        selected_obs = self.branch_widg.get_interact_value()\n",
    "        \n",
    "        with self.out_widg:\n",
    "            for i, obs in enumerate(selected_obs):\n",
    "                fig, ax = plt.subplots();\n",
    "                cm = plt.get_cmap('gist_rainbow');\n",
    "                ncolors = len(root_files);\n",
    "                ax.set_prop_cycle(color=[cm(1.*i/ncolors) for i in range(ncolors)]);\n",
    "                \n",
    "                for r in self.results:\n",
    "                    self._make_hist(ax, r, obs);\n",
    "                ax.legend(loc='upper left', bbox_to_anchor=(1, 0.5));\n",
    "                ax.set_xlabel(obs);\n",
    "                display(fig)\n",
    "\n",
    "            self.out_widg.clear_output(wait=True)\n",
    "            plt.close('all');\n",
    "        \n",
    "    def _make_hist(self, ax, result, obs, bins=50, label=None):\n",
    "\n",
    "        tree = uproot.open(f\"{result.file}:tree\");\n",
    "        metadata = uproot.open(f\"{result.file}:metadata\");\n",
    "        data = np.ravel(tree[obs].array());\n",
    "        # weight = tree['weight'].array() # TODO - implement this in rivet\n",
    "        if label is None:\n",
    "            label = f\"vevd={result.vevd}  mass={result.mdpp}\";\n",
    "\n",
    "        density = False\n",
    "        weights = np.ones_like(data)\n",
    "        if self.norm_widg.value == 'Unity':\n",
    "            density = True\n",
    "        elif self.norm_widg.value == 'Xsec':\n",
    "            weights = weights * metadata['fid_xs']\n",
    "\n",
    "        p = ax.hist(data, bins, label=label, histtype='step', density=density);\n",
    "        return ax\n"
   ]
  },
  {
   "cell_type": "code",
   "execution_count": 12,
   "metadata": {},
   "outputs": [
    {
     "data": {
      "application/vnd.jupyter.widget-view+json": {
       "model_id": "3b740baac1fd490ab9194d996d34adb6",
       "version_major": 2,
       "version_minor": 0
      },
      "text/plain": [
       "Output()"
      ]
     },
     "metadata": {},
     "output_type": "display_data"
    },
    {
     "data": {
      "application/vnd.jupyter.widget-view+json": {
       "model_id": "b47e7335893f493bb0a02c45c79fb22c",
       "version_major": 2,
       "version_minor": 0
      },
      "text/plain": [
       "PlotSampleFolderWidget(children=(FileChooser(path='/home/bewilson/MadHydra', filename='', title='', show_hidde…"
      ]
     },
     "execution_count": 12,
     "metadata": {},
     "output_type": "execute_result"
    },
    {
     "data": {
      "image/png": "[encoded data removed]",
      "text/plain": [
       "<Figure size 640x480 with 1 Axes>"
      ]
     },
     "metadata": {},
     "output_type": "display_data"
    }
   ],
   "source": [
    "PlotSampleFolderWidget()"
   ]
  },
  {
   "cell_type": "code",
   "execution_count": null,
   "metadata": {},
   "outputs": [],
   "source": []
  }
 ],
 "metadata": {
  "kernelspec": {
   "display_name": "madhydra",
   "language": "python",
   "name": "python3"
  },
  "language_info": {
   "codemirror_mode": {
    "name": "ipython",
    "version": 3
   },
   "file_extension": ".py",
   "mimetype": "text/x-python",
   "name": "python",
   "nbconvert_exporter": "python",
   "pygments_lexer": "ipython3",
   "version": "3.9.16"
  },
  "orig_nbformat": 4
 },
 "nbformat": 4,
 "nbformat_minor": 2
}
