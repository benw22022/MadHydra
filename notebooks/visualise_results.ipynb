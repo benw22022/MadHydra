{
 "cells": [
  {
   "cell_type": "code",
   "execution_count": 26,
   "metadata": {},
   "outputs": [],
   "source": [
    "import glob\n",
    "import matplotlib as mpl\n",
    "mpl.rcParams['figure.dpi'] = 150\n",
    "\n",
    "import operator\n",
    "import seaborn as sns\n",
    "import numpy as np\n",
    "import matplotlib.pyplot as plt\n",
    "from matplotlib.colors import LogNorm\n",
    "\n",
    "from ipywidgets import interact, interactive, fixed, interact_manual\n",
    "from ordered_set import OrderedSet\n",
    "from plotting_utils import get_results#, plot_results\n",
    "\n",
    "%matplotlib inline"
   ]
  },
  {
   "cell_type": "code",
   "execution_count": 27,
   "metadata": {},
   "outputs": [],
   "source": [
    "def plot_results(results, name, log):\n",
    "\n",
    "    vevds = OrderedSet([r.vevd for r in sorted(results, key=operator.attrgetter('vevd'), reverse=True)])\n",
    "    mdpps = OrderedSet([r.mdpp for r in sorted(results, key=operator.attrgetter('mdpp'))])\n",
    "\n",
    "    hmap = []\n",
    "    \n",
    "    print(vevds)\n",
    "\n",
    "    for v in vevds:\n",
    "        results_msorted = sorted(results, key=operator.attrgetter('mdpp'))\n",
    "        hmap.append([r.quantity for r in results_msorted if r.vevd == v])\n",
    "        \n",
    "    hmap = np.array(hmap, dtype=float)\n",
    "\n",
    "    fig, ax = plt.subplots()\n",
    "    if log:\n",
    "        sns.heatmap(hmap, annot=True, cmap=\"Oranges\", xticklabels=mdpps, yticklabels=vevds, ax=ax,\n",
    "                    fmt=\".2\", norm=LogNorm(), annot_kws={\"size\": 15 / np.sqrt(len(hmap))},\n",
    "                    cbar_kws={'label': name});\n",
    "    if not log:\n",
    "        sns.heatmap(hmap, annot=True, cmap=\"Oranges\", xticklabels=mdpps, yticklabels=vevds, ax=ax,\n",
    "                    annot_kws={\"size\": 15 / np.sqrt(len(hmap))},\n",
    "                    cbar_kws={'label': name});\n",
    "\n",
    "    ax.set_xlabel(r\"$M_{\\Delta^{\\pm\\pm}}$ [GeV]\");\n",
    "    ax.set_ylabel(r\"vevD [GeV]\");"
   ]
  },
  {
   "cell_type": "code",
   "execution_count": 28,
   "metadata": {},
   "outputs": [
    {
     "data": {
      "application/vnd.jupyter.widget-view+json": {
       "model_id": "0ea27a502ece4eb7b28736141381ab0b",
       "version_major": 2,
       "version_minor": 0
      },
      "text/plain": [
       "interactive(children=(Dropdown(description='sample_folder', options=('../multirun/2023-03-13_typeII_single_pro…"
      ]
     },
     "metadata": {},
     "output_type": "display_data"
    }
   ],
   "source": [
    "def select(sample_folder, variable, log):\n",
    "    results = get_results(sample_folder, variable)\n",
    "    plot_results(results, variable, log)\n",
    "\n",
    "runs = glob.glob(\"../multirun/*\")\n",
    "choices = [\"total_xs\", \"total_xs_error\", \"sum_of_weights\", \"sum_of_weights_err\", \"fid_sum_of_weights\", \"fid_sum_of_weights_err\", \"fid_xs\", \"fid_xs_err\", \"nsurvive_events\", \"ninit_events\",  \"presel_eff\",   \"cutflow\"]\n",
    "\n",
    "interact(select, sample_folder=runs, variable=choices, log=[True, False]);"
   ]
  },
  {
   "cell_type": "code",
   "execution_count": null,
   "metadata": {},
   "outputs": [],
   "source": []
  }
 ],
 "metadata": {
  "kernelspec": {
   "display_name": "madhydra",
   "language": "python",
   "name": "python3"
  },
  "language_info": {
   "codemirror_mode": {
    "name": "ipython",
    "version": 3
   },
   "file_extension": ".py",
   "mimetype": "text/x-python",
   "name": "python",
   "nbconvert_exporter": "python",
   "pygments_lexer": "ipython3",
   "version": "3.9.16"
  },
  "orig_nbformat": 4
 },
 "nbformat": 4,
 "nbformat_minor": 2
}
