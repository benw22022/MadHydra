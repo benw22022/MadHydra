{
 "cells": [
  {
   "cell_type": "code",
   "execution_count": 33,
   "metadata": {},
   "outputs": [],
   "source": [
    "import os\n",
    "import glob\n",
    "import uproot\n",
    "import matplotlib as mpl\n",
    "mpl.rcParams['figure.dpi'] = 150\n",
    "\n",
    "import operator\n",
    "import seaborn as sns\n",
    "import numpy as np\n",
    "import matplotlib.pyplot as plt\n",
    "from matplotlib.colors import LogNorm\n",
    "\n",
    "from ipywidgets import interact, interactive, fixed, interact_manual\n",
    "from ordered_set import OrderedSet\n",
    "from plotting_utils import get_results#, plot_results\n",
    "\n",
    "%matplotlib inline"
   ]
  },
  {
   "cell_type": "code",
   "execution_count": 29,
   "metadata": {},
   "outputs": [],
   "source": [
    "def plot_results(results, name, log):\n",
    "\n",
    "    vevds = OrderedSet([r.vevd for r in sorted(results, key=operator.attrgetter('vevd'), reverse=True)])\n",
    "    mdpps = OrderedSet([r.mdpp for r in sorted(results, key=operator.attrgetter('mdpp'))])\n",
    "\n",
    "    hmap = []\n",
    "    \n",
    "    print(vevds)\n",
    "\n",
    "    for v in vevds:\n",
    "        results_msorted = sorted(results, key=operator.attrgetter('mdpp'))\n",
    "        hmap.append([r.quantity for r in results_msorted if r.vevd == v])\n",
    "        \n",
    "    hmap = np.array(hmap, dtype=float)\n",
    "\n",
    "    fig, ax = plt.subplots()\n",
    "    if log:\n",
    "        sns.heatmap(hmap, annot=True, cmap=\"Oranges\", xticklabels=mdpps, yticklabels=vevds, ax=ax,\n",
    "                    fmt=\".2\", norm=LogNorm(), annot_kws={\"size\": 15 / np.sqrt(len(hmap))},\n",
    "                    cbar_kws={'label': name});\n",
    "    if not log:\n",
    "        sns.heatmap(hmap, annot=True, cmap=\"Oranges\", xticklabels=mdpps, yticklabels=vevds, ax=ax,\n",
    "                    annot_kws={\"size\": 15 / np.sqrt(len(hmap))},\n",
    "                    cbar_kws={'label': name});\n",
    "\n",
    "    ax.set_xlabel(r\"$M_{\\Delta^{\\pm\\pm}}$ [GeV]\");\n",
    "    ax.set_ylabel(r\"vevD [GeV]\");"
   ]
  },
  {
   "cell_type": "code",
   "execution_count": 30,
   "metadata": {},
   "outputs": [
    {
     "data": {
      "application/vnd.jupyter.widget-view+json": {
       "model_id": "fc13e6f118794bc68320847ac0ff66be",
       "version_major": 2,
       "version_minor": 0
      },
      "text/plain": [
       "interactive(children=(Dropdown(description='sample_folder', options=('../multirun/2023-03-13_typeII_single_pro…"
      ]
     },
     "metadata": {},
     "output_type": "display_data"
    }
   ],
   "source": [
    "def select(sample_folder, variable, log):\n",
    "    results = get_results(sample_folder, variable)\n",
    "    plot_results(results, variable, log)\n",
    "\n",
    "runs = glob.glob(\"../multirun/*\")\n",
    "choices = [\"total_xs\", \"total_xs_error\", \"sum_of_weights\", \"sum_of_weights_err\", \"fid_sum_of_weights\", \"fid_sum_of_weights_err\", \"fid_xs\", \"fid_xs_err\", \"nsurvive_events\", \"ninit_events\",  \"presel_eff\",   \"cutflow\"]\n",
    "\n",
    "interact(select, sample_folder=runs, variable=choices, log=[True, False]);"
   ]
  },
  {
   "cell_type": "code",
   "execution_count": 39,
   "metadata": {},
   "outputs": [
    {
     "data": {
      "application/vnd.jupyter.widget-view+json": {
       "model_id": "b85fbf3a1c6d4555af9478a05515877e",
       "version_major": 2,
       "version_minor": 0
      },
      "text/plain": [
       "interactive(children=(Dropdown(description='folder', options=('../multirun/2023-03-13_typeII_single_prod_lljj_…"
      ]
     },
     "metadata": {},
     "output_type": "display_data"
    },
    {
     "data": {
      "application/vnd.jupyter.widget-view+json": {
       "model_id": "ba61b9be13104e6b88a3b082f1ee7fd7",
       "version_major": 2,
       "version_minor": 0
      },
      "text/plain": [
       "interactive(children=(Dropdown(description='mass', options=(100.0, 300.0, 500.0, 700.0, 900.0, 1100.0, 1300.0,…"
      ]
     },
     "metadata": {},
     "output_type": "display_data"
    }
   ],
   "source": [
    "def select_folder(folder):\n",
    "    global selected_folder\n",
    "    selected_folder = folder\n",
    "\n",
    "\n",
    "def get_vevs_and_masses(sample_folder):\n",
    "    folders = [p for p in glob.glob(f\"{sample_folder}/*\") if os.path.isdir(p)]\n",
    "    vevds = []\n",
    "    mdpps = []\n",
    "    for fpath in folders:\n",
    "        split_path = os.path.basename(fpath).split(\"_\")\n",
    "        vevds.append(float(split_path[-1]))\n",
    "        mdpps.append(float(split_path[-2]))\n",
    "    \n",
    "    vevds.sort()\n",
    "    mdpps.sort()\n",
    "    vevds = OrderedSet(vevds)\n",
    "    mdpps = OrderedSet(mdpps)\n",
    "    \n",
    "    return vevds, mdpps\n",
    "\n",
    "\n",
    "def get_root_file_path(mass, vevd):\n",
    "    folders = [p for p in glob.glob(f\"{selected_folder}/*\") if os.path.isdir(p)]\n",
    "    for fpath in folders:\n",
    "        split_path = os.path.basename(fpath).split(\"_\")\n",
    "        if float(split_path[-1]) == vevd and float(split_path[-2]) == mass:\n",
    "            return f\"{fpath}/output.root\"\n",
    "\n",
    "def plot_sample(mass, vevd):\n",
    "    root_filepath = get_root_file_path(mass, vevd)\n",
    "\n",
    "    data = uproot.open(f\"{root_filepath}:tree\")\n",
    "    for observable in data.keys():\n",
    "        array = data[observable].array(library='ak')\n",
    "        array = np.ravel(array)\n",
    "        fig, ax = plt.subplots()\n",
    "        ax.hist(array, 50, label=f'mass = {mass}  vevd={vevd}', histtype='step')\n",
    "        ax.set_xlabel(observable)\n",
    "        ax.legend()\n",
    "        plt.show()\n",
    "\n",
    "\n",
    "interact(select_folder, folder=glob.glob(\"../multirun/*/\"));\n",
    "\n",
    "vevds, mdpps = get_vevs_and_masses(selected_folder)\n",
    "\n",
    "interact(plot_sample, mass=mdpps, vevd=vevds);"
   ]
  }
 ],
 "metadata": {
  "kernelspec": {
   "display_name": "madhydra",
   "language": "python",
   "name": "python3"
  },
  "language_info": {
   "codemirror_mode": {
    "name": "ipython",
    "version": 3
   },
   "file_extension": ".py",
   "mimetype": "text/x-python",
   "name": "python",
   "nbconvert_exporter": "python",
   "pygments_lexer": "ipython3",
   "version": "3.9.16"
  },
  "orig_nbformat": 4
 },
 "nbformat": 4,
 "nbformat_minor": 2
}
