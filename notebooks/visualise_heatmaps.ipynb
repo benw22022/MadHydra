{
 "cells": [
  {
   "cell_type": "code",
   "execution_count": 1,
   "metadata": {},
   "outputs": [],
   "source": [
    "\n",
    "import glob\n",
    "import operator\n",
    "import numpy as np\n",
    "import seaborn as sns\n",
    "import matplotlib as mpl\n",
    "import matplotlib.pyplot as plt\n",
    "from matplotlib.colors import LogNorm\n",
    "\n",
    "from ipywidgets import interact, Output\n",
    "from ordered_set import OrderedSet\n",
    "\n",
    "from plotting_utils import get_results, Result\n",
    "from typing import List\n",
    "\n",
    "# %matplotlib inline\n",
    "mpl.rcParams['figure.dpi'] = 150"
   ]
  },
  {
   "cell_type": "code",
   "execution_count": 4,
   "metadata": {},
   "outputs": [],
   "source": [
    "def plot_results(results: List[Result], name: str, log: bool=False) -> None:\n",
    "    \"\"\"\n",
    "    Plots a heatmap of vevd vs mdpp for a given branch in a file's metadata tree e.g. fiducial xsec\n",
    "\n",
    "    Args:\n",
    "        results (List[Result]): A list of `Result` objects \n",
    "        name (str): Name of the metadata branch to plot\n",
    "        log (bool, optional): Use a log scale for colour bar. Defaults to False.\n",
    "    \"\"\"\n",
    "\n",
    "    vevds = OrderedSet([r.vevd for r in sorted(results, key=operator.attrgetter('vevd'), reverse=True)])\n",
    "    mdpps = OrderedSet([r.mdpp for r in sorted(results, key=operator.attrgetter('mdpp'))])\n",
    "\n",
    "    hmap = []\n",
    "    \n",
    "    print(vevds)\n",
    "\n",
    "    for v in vevds:\n",
    "        results_msorted = sorted(results, key=operator.attrgetter('mdpp'))\n",
    "        hmap.append([r.quantity for r in results_msorted if r.vevd == v])\n",
    "        \n",
    "    hmap = np.array(hmap, dtype=float)\n",
    "    \n",
    "    if \"_xs\" in name:\n",
    "        hmap *= 1000\n",
    "\n",
    "    fig, ax = plt.subplots()\n",
    "    if log:\n",
    "        sns.heatmap(hmap, annot=True, cmap=\"Oranges\", xticklabels=mdpps, yticklabels=vevds, ax=ax,\n",
    "                    fmt=\".2\", norm=LogNorm(), annot_kws={\"size\": 15 / np.sqrt(len(hmap))},\n",
    "                    cbar_kws={'label': name});\n",
    "    if not log:\n",
    "        sns.heatmap(hmap, annot=True, cmap=\"Oranges\", xticklabels=mdpps, yticklabels=vevds, ax=ax,\n",
    "                    annot_kws={\"size\": 15 / np.sqrt(len(hmap))},\n",
    "                    cbar_kws={'label': name});\n",
    "\n",
    "    ax.set_xlabel(r\"$M_{\\Delta^{\\pm\\pm}}$ [GeV]\");\n",
    "    ax.set_ylabel(r\"vevD [GeV]\");\n",
    "    plt.show()\n",
    "\n"
   ]
  },
  {
   "cell_type": "code",
   "execution_count": 5,
   "metadata": {},
   "outputs": [
    {
     "data": {
      "application/vnd.jupyter.widget-view+json": {
       "model_id": "91ac30b2f6f94dcb9cfa4d3653239367",
       "version_major": 2,
       "version_minor": 0
      },
      "text/plain": [
       "interactive(children=(Dropdown(description='sample_folder', options=('../multirun/2023-03-13_typeII_single_pro…"
      ]
     },
     "metadata": {},
     "output_type": "display_data"
    }
   ],
   "source": [
    "def select(sample_folder: str, variable: str, log: bool) -> None:\n",
    "    \"\"\"\n",
    "    Simple dropdown menu widget to select the sample folder and metadata branch to plot\n",
    "\n",
    "    Args:\n",
    "        sample_folder (str): Folder containing the multirun output\n",
    "        variable (str): A branch in output.root/metadata\n",
    "        log (bool): If True, use log scale for plot\n",
    "    \"\"\"\n",
    "    results = get_results(sample_folder, variable)\n",
    "    plot_results(results, variable, log)\n",
    "\n",
    "runs = glob.glob(\"../multirun/*\")\n",
    "choices = [\"total_xs\", \"total_xs_error\", \"sum_of_weights\", \"sum_of_weights_err\", \"fid_sum_of_weights\", \"fid_sum_of_weights_err\", \"fid_xs\", \"fid_xs_err\", \"nsurvive_events\", \"ninit_events\",  \"presel_eff\",   \"cutflow\"]\n",
    "\n",
    "interact(select, sample_folder=runs, variable=choices, log=[True, False]);"
   ]
  }
 ],
 "metadata": {
  "kernelspec": {
   "display_name": "madhydra",
   "language": "python",
   "name": "python3"
  },
  "language_info": {
   "codemirror_mode": {
    "name": "ipython",
    "version": 3
   },
   "file_extension": ".py",
   "mimetype": "text/x-python",
   "name": "python",
   "nbconvert_exporter": "python",
   "pygments_lexer": "ipython3",
   "version": "3.9.16"
  },
  "orig_nbformat": 4
 },
 "nbformat": 4,
 "nbformat_minor": 2
}
