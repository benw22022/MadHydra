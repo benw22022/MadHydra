{
 "cells": [
  {
   "cell_type": "code",
   "execution_count": 2,
   "metadata": {},
   "outputs": [],
   "source": [
    "import os\n",
    "import glob\n",
    "import uproot\n",
    "import omegaconf\n",
    "import matplotlib.pyplot as plt\n",
    "from termcolor import colored\n",
    "import yaml\n",
    "\n",
    "from ipywidgets import interact, interactive, fixed, interact_manual\n",
    "import ipywidgets as widgets\n",
    "\n",
    "%matplotlib inline"
   ]
  },
  {
   "cell_type": "code",
   "execution_count": 3,
   "metadata": {},
   "outputs": [],
   "source": [
    "def check_condor_log(logfile):\n",
    "    retcode = -999\n",
    "    with open(logfile) as f:\n",
    "        for line in f:\n",
    "            if 'exit-code' in line:\n",
    "                retcode = line[-2]\n",
    "    \n",
    "    return retcode"
   ]
  },
  {
   "cell_type": "code",
   "execution_count": 4,
   "metadata": {},
   "outputs": [],
   "source": [
    "class Status:\n",
    "    HEADER = '\\033[95m'\n",
    "    OKBLUE = '\\033[94m'\n",
    "    OKCYAN = '\\033[96m'\n",
    "    OKGREEN = '\\033[92m'\n",
    "    WARNING = '\\033[93m'\n",
    "    FAIL = '\\033[91m'\n",
    "    ENDC = '\\033[0m'\n",
    "    BOLD = '\\033[1m'\n",
    "    UNDERLINE = '\\033[4m'\n",
    "\n",
    "    @classmethod\n",
    "    def success(self, text):\n",
    "        print(f\"{text}: {self.OKGREEN}Success{self.ENDC}\")\n",
    "    \n",
    "    @classmethod\n",
    "    def fail(self, text):\n",
    "        print(f\"{text}: {self.FAIL}Fail{self.ENDC}\")\n",
    "\n",
    "    @classmethod\n",
    "    def running(self, text):\n",
    "        print(f\"{text}: {self.OKBLUE}Running{self.ENDC}\")\n",
    "\n",
    "    @classmethod\n",
    "    def status(self, text, status):\n",
    "        if status == 'Fail': self.fail(text)\n",
    "        if status == 'Success': self.success(text)\n",
    "        if status == 'Running': self.running(text)\n"
   ]
  },
  {
   "cell_type": "code",
   "execution_count": 5,
   "metadata": {},
   "outputs": [],
   "source": [
    "def check_status(job_folder):\n",
    "\n",
    "    status = 'Fail'\n",
    "\n",
    "    condor_log = glob.glob(f\"{job_folder}/generation*.log\")\n",
    "    stdout_log = glob.glob(f\"{job_folder}/generation*.out\")\n",
    "    stderr_log = glob.glob(f\"{job_folder}/generation*.out\")\n",
    "    output_rootfile = glob.glob(f\"{job_folder}/output*.root\")\n",
    "\n",
    "    # If we have an stdout then job has completed\n",
    "    if stdout_log and not output_rootfile:\n",
    "        status = 'Fail'\n",
    "    elif stdout_log and output_rootfile:\n",
    "        status = 'Success'\n",
    "    else:\n",
    "        status = 'Running'\n",
    "    \n",
    "    return job_folder, status"
   ]
  },
  {
   "cell_type": "code",
   "execution_count": 6,
   "metadata": {},
   "outputs": [],
   "source": [
    "def status(sample_folder):\n",
    "\n",
    "    job_folders = [p for p in glob.glob(f\"{sample_folder}/*\") if os.path.isdir(p)]\n",
    "\n",
    "    status_of_jobs = [check_status(p) for p in job_folders]\n",
    "\n",
    "    for (job_folder, status) in status_of_jobs:\n",
    "\n",
    "        if status == \"Fail\":\n",
    "            print(os.path.basename(job_folder), colored(status, 'red'))\n",
    "        if status == 'Success':\n",
    "            print(os.path.basename(job_folder), colored(status, 'green'))\n",
    "        if status == 'Running':\n",
    "            print(os.path.basename(job_folder), colored(status, 'blue'))\n",
    "\n",
    "    # plt.table(cellText=status_of_jobs,\n",
    "    #           rowLabels=[\"Jobs\"],\n",
    "    #         #   rowColours=colors,\n",
    "    #           colLabels=['Status'])\n",
    "\n",
    "    return sample_folder\n"
   ]
  },
  {
   "cell_type": "code",
   "execution_count": 7,
   "metadata": {},
   "outputs": [
    {
     "data": {
      "application/vnd.jupyter.widget-view+json": {
       "model_id": "5e50e3de86a6495ba76b7646f2d708e2",
       "version_major": 2,
       "version_minor": 0
      },
      "text/plain": [
       "interactive(children=(Dropdown(description='sample_folder', options=('multirun/2023-03-09_typeII_single_prod_W…"
      ]
     },
     "metadata": {},
     "output_type": "display_data"
    }
   ],
   "source": [
    "# Create drop down menu to select the simulation run\n",
    "runs = [p for p in glob.glob(\"multirun/*\") if os.path.isdir(p)];\n",
    "interact(status, sample_folder=runs);\n"
   ]
  },
  {
   "cell_type": "code",
   "execution_count": null,
   "metadata": {},
   "outputs": [],
   "source": []
  },
  {
   "cell_type": "code",
   "execution_count": 8,
   "metadata": {},
   "outputs": [
    {
     "name": "stdout",
     "output_type": "stream",
     "text": [
      "\u001b[31mred\u001b[0m\n"
     ]
    }
   ],
   "source": [
    "print(colored('red', 'red'))"
   ]
  },
  {
   "cell_type": "code",
   "execution_count": 9,
   "metadata": {},
   "outputs": [],
   "source": [
    "def extract_parameters(job_folder):\n",
    "    overrides_file = os.path.join(job_folder, '.hydra', 'overrides.yaml')\n",
    "\n",
    "    overrides = {}\n",
    "    with open(overrides_file, \"r\") as stream:\n",
    "        overrides = yaml.safe_load(stream)\n",
    "    # omegaconf.OmegaConf.load(overrides_file)\n",
    "\n",
    "    print(overrides)\n",
    "    return overrides"
   ]
  },
  {
   "cell_type": "code",
   "execution_count": 10,
   "metadata": {},
   "outputs": [
    {
     "name": "stdout",
     "output_type": "stream",
     "text": [
      "['+process=typeII_vbs_bosonic', 'parameters.log10_vevD=0', 'parameters.MDPP=1300', 'batch=True']\n",
      "['+process=typeII_vbs_bosonic', 'parameters.log10_vevD=-4', 'parameters.MDPP=1100', 'batch=True']\n",
      "['+process=typeII_vbs_bosonic', 'parameters.log10_vevD=-1', 'parameters.MDPP=300', 'batch=True']\n",
      "['+process=typeII_vbs_bosonic', 'parameters.log10_vevD=-6', 'parameters.MDPP=300', 'batch=True']\n",
      "['+process=typeII_vbs_bosonic', 'parameters.log10_vevD=-6', 'parameters.MDPP=700', 'batch=True']\n",
      "['+process=typeII_vbs_bosonic', 'parameters.log10_vevD=-1', 'parameters.MDPP=1900', 'batch=True']\n",
      "['+process=typeII_vbs_bosonic', 'parameters.log10_vevD=0', 'parameters.MDPP=300', 'batch=True']\n",
      "['+process=typeII_vbs_bosonic', 'parameters.log10_vevD=-1', 'parameters.MDPP=1500', 'batch=True']\n",
      "['+process=typeII_vbs_bosonic', 'parameters.log10_vevD=-6', 'parameters.MDPP=1700', 'batch=True']\n",
      "['+process=typeII_vbs_bosonic', 'parameters.log10_vevD=-6', 'parameters.MDPP=1300', 'batch=True']\n",
      "['+process=typeII_vbs_bosonic', 'parameters.log10_vevD=-4', 'parameters.MDPP=1900', 'batch=True']\n",
      "['+process=typeII_vbs_bosonic', 'parameters.log10_vevD=-4', 'parameters.MDPP=700', 'batch=True']\n",
      "['+process=typeII_vbs_bosonic', 'parameters.log10_vevD=-4', 'parameters.MDPP=100', 'batch=True']\n",
      "['+process=typeII_vbs_bosonic', 'parameters.log10_vevD=0', 'parameters.MDPP=1500', 'batch=True']\n",
      "['+process=typeII_vbs_bosonic', 'parameters.log10_vevD=-3', 'parameters.MDPP=700', 'batch=True']\n",
      "['+process=typeII_vbs_bosonic', 'parameters.log10_vevD=-3', 'parameters.MDPP=300', 'batch=True']\n",
      "['+process=typeII_vbs_bosonic', 'parameters.log10_vevD=-7', 'parameters.MDPP=1900', 'batch=True']\n",
      "['+process=typeII_vbs_bosonic', 'parameters.log10_vevD=-7', 'parameters.MDPP=1100', 'batch=True']\n",
      "['+process=typeII_vbs_bosonic', 'parameters.log10_vevD=-7', 'parameters.MDPP=1500', 'batch=True']\n",
      "['+process=typeII_vbs_bosonic', 'parameters.log10_vevD=-7', 'parameters.MDPP=900', 'batch=True']\n",
      "['+process=typeII_vbs_bosonic', 'parameters.log10_vevD=-3', 'parameters.MDPP=1300', 'batch=True']\n",
      "['+process=typeII_vbs_bosonic', 'parameters.log10_vevD=-3', 'parameters.MDPP=1700', 'batch=True']\n",
      "['+process=typeII_vbs_bosonic', 'parameters.log10_vevD=-7', 'parameters.MDPP=500', 'batch=True']\n",
      "['+process=typeII_vbs_bosonic', 'parameters.log10_vevD=-7', 'parameters.MDPP=100', 'batch=True']\n",
      "['+process=typeII_vbs_bosonic', 'parameters.log10_vevD=-1', 'parameters.MDPP=100', 'batch=True']\n",
      "['+process=typeII_vbs_bosonic', 'parameters.log10_vevD=-5', 'parameters.MDPP=700', 'batch=True']\n",
      "['+process=typeII_vbs_bosonic', 'parameters.log10_vevD=-4', 'parameters.MDPP=1700', 'batch=True']\n",
      "['+process=typeII_vbs_bosonic', 'parameters.log10_vevD=-5', 'parameters.MDPP=300', 'batch=True']\n",
      "['+process=typeII_vbs_bosonic', 'parameters.log10_vevD=-2', 'parameters.MDPP=900', 'batch=True']\n",
      "['+process=typeII_vbs_bosonic', 'parameters.log10_vevD=-5', 'parameters.MDPP=1300', 'batch=True']\n",
      "['+process=typeII_vbs_bosonic', 'parameters.log10_vevD=-5', 'parameters.MDPP=1700', 'batch=True']\n",
      "['+process=typeII_vbs_bosonic', 'parameters.log10_vevD=-4', 'parameters.MDPP=900', 'batch=True']\n",
      "['+process=typeII_vbs_bosonic', 'parameters.log10_vevD=-1', 'parameters.MDPP=1700', 'batch=True']\n",
      "['+process=typeII_vbs_bosonic', 'parameters.log10_vevD=0', 'parameters.MDPP=500', 'batch=True']\n",
      "['+process=typeII_vbs_bosonic', 'parameters.log10_vevD=-2', 'parameters.MDPP=1900', 'batch=True']\n",
      "['+process=typeII_vbs_bosonic', 'parameters.log10_vevD=-2', 'parameters.MDPP=1700', 'batch=True']\n",
      "['+process=typeII_vbs_bosonic', 'parameters.log10_vevD=0', 'parameters.MDPP=100', 'batch=True']\n",
      "['+process=typeII_vbs_bosonic', 'parameters.log10_vevD=-3', 'parameters.MDPP=1100', 'batch=True']\n",
      "['+process=typeII_vbs_bosonic', 'parameters.log10_vevD=-3', 'parameters.MDPP=1500', 'batch=True']\n",
      "['+process=typeII_vbs_bosonic', 'parameters.log10_vevD=-2', 'parameters.MDPP=700', 'batch=True']\n",
      "['+process=typeII_vbs_bosonic', 'parameters.log10_vevD=-7', 'parameters.MDPP=700', 'batch=True']\n",
      "['+process=typeII_vbs_bosonic', 'parameters.log10_vevD=-7', 'parameters.MDPP=300', 'batch=True']\n",
      "['+process=typeII_vbs_bosonic', 'parameters.log10_vevD=-3', 'parameters.MDPP=1900', 'batch=True']\n",
      "['+process=typeII_vbs_bosonic', 'parameters.log10_vevD=-3', 'parameters.MDPP=500', 'batch=True']\n",
      "['+process=typeII_vbs_bosonic', 'parameters.log10_vevD=-4', 'parameters.MDPP=500', 'batch=True']\n",
      "['+process=typeII_vbs_bosonic', 'parameters.log10_vevD=-3', 'parameters.MDPP=100', 'batch=True']\n",
      "['+process=typeII_vbs_bosonic', 'parameters.log10_vevD=-3', 'parameters.MDPP=900', 'batch=True']\n",
      "['+process=typeII_vbs_bosonic', 'parameters.log10_vevD=-7', 'parameters.MDPP=1300', 'batch=True']\n",
      "['+process=typeII_vbs_bosonic', 'parameters.log10_vevD=-7', 'parameters.MDPP=1700', 'batch=True']\n",
      "['+process=typeII_vbs_bosonic', 'parameters.log10_vevD=-5', 'parameters.MDPP=1100', 'batch=True']\n",
      "['+process=typeII_vbs_bosonic', 'parameters.log10_vevD=-1', 'parameters.MDPP=1100', 'batch=True']\n",
      "['+process=typeII_vbs_bosonic', 'parameters.log10_vevD=-5', 'parameters.MDPP=1500', 'batch=True']\n",
      "['+process=typeII_vbs_bosonic', 'parameters.log10_vevD=-5', 'parameters.MDPP=1900', 'batch=True']\n",
      "['+process=typeII_vbs_bosonic', 'parameters.log10_vevD=-2', 'parameters.MDPP=1500', 'batch=True']\n",
      "['+process=typeII_vbs_bosonic', 'parameters.log10_vevD=-5', 'parameters.MDPP=500', 'batch=True']\n",
      "['+process=typeII_vbs_bosonic', 'parameters.log10_vevD=-5', 'parameters.MDPP=100', 'batch=True']\n",
      "['+process=typeII_vbs_bosonic', 'parameters.log10_vevD=-5', 'parameters.MDPP=900', 'batch=True']\n",
      "['+process=typeII_vbs_bosonic', 'parameters.log10_vevD=-1', 'parameters.MDPP=700', 'batch=True']\n",
      "['+process=typeII_vbs_bosonic', 'parameters.log10_vevD=0', 'parameters.MDPP=1100', 'batch=True']\n",
      "['+process=typeII_vbs_bosonic', 'parameters.log10_vevD=-2', 'parameters.MDPP=500', 'batch=True']\n",
      "['+process=typeII_vbs_bosonic', 'parameters.log10_vevD=-4', 'parameters.MDPP=1300', 'batch=True']\n",
      "['+process=typeII_vbs_bosonic', 'parameters.log10_vevD=-4', 'parameters.MDPP=1500', 'batch=True']\n",
      "['+process=typeII_vbs_bosonic', 'parameters.log10_vevD=0', 'parameters.MDPP=900', 'batch=True']\n",
      "['+process=typeII_vbs_bosonic', 'parameters.log10_vevD=0', 'parameters.MDPP=700', 'batch=True']\n",
      "['+process=typeII_vbs_bosonic', 'parameters.log10_vevD=-2', 'parameters.MDPP=1300', 'batch=True']\n",
      "['+process=typeII_vbs_bosonic', 'parameters.log10_vevD=-2', 'parameters.MDPP=300', 'batch=True']\n",
      "['+process=typeII_vbs_bosonic', 'parameters.log10_vevD=-6', 'parameters.MDPP=1900', 'batch=True']\n",
      "['+process=typeII_vbs_bosonic', 'parameters.log10_vevD=-4', 'parameters.MDPP=300', 'batch=True']\n",
      "['+process=typeII_vbs_bosonic', 'parameters.log10_vevD=0', 'parameters.MDPP=1900', 'batch=True']\n",
      "['+process=typeII_vbs_bosonic', 'parameters.log10_vevD=-6', 'parameters.MDPP=1500', 'batch=True']\n",
      "['+process=typeII_vbs_bosonic', 'parameters.log10_vevD=-1', 'parameters.MDPP=900', 'batch=True']\n",
      "['+process=typeII_vbs_bosonic', 'parameters.log10_vevD=-6', 'parameters.MDPP=1100', 'batch=True']\n",
      "['+process=typeII_vbs_bosonic', 'parameters.log10_vevD=-1', 'parameters.MDPP=1300', 'batch=True']\n",
      "['+process=typeII_vbs_bosonic', 'parameters.log10_vevD=0', 'parameters.MDPP=1700', 'batch=True']\n",
      "['+process=typeII_vbs_bosonic', 'parameters.log10_vevD=-2', 'parameters.MDPP=1100', 'batch=True']\n",
      "['+process=typeII_vbs_bosonic', 'parameters.log10_vevD=-6', 'parameters.MDPP=900', 'batch=True']\n",
      "['+process=typeII_vbs_bosonic', 'parameters.log10_vevD=-1', 'parameters.MDPP=500', 'batch=True']\n",
      "['+process=typeII_vbs_bosonic', 'parameters.log10_vevD=-6', 'parameters.MDPP=100', 'batch=True']\n",
      "['+process=typeII_vbs_bosonic', 'parameters.log10_vevD=-6', 'parameters.MDPP=500', 'batch=True']\n",
      "['+process=typeII_vbs_bosonic', 'parameters.log10_vevD=-2', 'parameters.MDPP=100', 'batch=True']\n"
     ]
    }
   ],
   "source": [
    "job_folders = [p for p in glob.glob(\"multirun/2023-03-09_typeII_single_prod_WWjj/*\") if os.path.isdir(p)]\n",
    "\n",
    "parameters = []\n",
    "\n",
    "for f in job_folders:\n",
    "    parameters.append(extract_parameters(f))\n"
   ]
  },
  {
   "cell_type": "code",
   "execution_count": 11,
   "metadata": {},
   "outputs": [
    {
     "name": "stdout",
     "output_type": "stream",
     "text": [
      "typeII_vbs_bosonic ['log10_vevD', 'MDPP']\n"
     ]
    }
   ],
   "source": [
    "params = []\n",
    "process = \"\"\n",
    "\n",
    "for entry in parameters[0]:\n",
    "    if 'process' in entry:\n",
    "        process = entry.split('=')[-1]\n",
    "    if 'parameters' in entry:\n",
    "        params.append(entry.split(\"parameters.\")[-1].split('=')[0])\n",
    "\n",
    "print(process, params)"
   ]
  },
  {
   "cell_type": "code",
   "execution_count": 15,
   "metadata": {},
   "outputs": [
    {
     "data": {
      "text/plain": [
       "Text(0.5, 0, '$M_{\\\\Delta^{++}}$ [GeV]')"
      ]
     },
     "execution_count": 15,
     "metadata": {},
     "output_type": "execute_result"
    },
    {
     "data": {
      "image/png": "[encoded data removed]",
      "text/plain": [
       "<Figure size 640x480 with 1 Axes>"
      ]
     },
     "metadata": {},
     "output_type": "display_data"
    }
   ],
   "source": [
    "results = {}\n",
    "failed_results = {}\n",
    "\n",
    "for folder in job_folders:\n",
    "    vevd = os.path.basename(folder).split('_')[-1]\n",
    "    results[vevd] = {'mdpp': [], 'xsec': []}\n",
    "\n",
    "for folder in job_folders:\n",
    "    vevd = float(os.path.basename(folder).split('_')[-1])\n",
    "    mdpp = float(os.path.basename(folder).split('_')[-2])\n",
    "    xsec = 0\n",
    "    try:\n",
    "        metadata = uproot.open(f\"{folder}/output.root:metadata\")\n",
    "        xsec = metadata['total_xs'].array(library='np')\n",
    "        results[str(vevd)]['mdpp'].append(mdpp)\n",
    "        results[str(vevd)]['xsec'].append(xsec)\n",
    "    except Exception:\n",
    "        pass\n",
    "    \n",
    "\n",
    "fig, ax = plt.subplots()\n",
    "\n",
    "for vevd, value in results.items():\n",
    "    ax.scatter(value['mdpp'], value['xsec'], label=vevd)\n",
    "\n",
    "ax.legend()\n",
    "ax.set_yscale('log')\n",
    "ax.set_xlabel(r\"$M_{\\Delta^{++}}$ [GeV]\")\n",
    "ax.set_ylabel(r\"$\\sigma$ (fb)\")\n",
    "\n",
    "\n"
   ]
  },
  {
   "cell_type": "code",
   "execution_count": null,
   "metadata": {},
   "outputs": [],
   "source": []
  }
 ],
 "metadata": {
  "kernelspec": {
   "display_name": "madhydra",
   "language": "python",
   "name": "python3"
  },
  "language_info": {
   "codemirror_mode": {
    "name": "ipython",
    "version": 3
   },
   "file_extension": ".py",
   "mimetype": "text/x-python",
   "name": "python",
   "nbconvert_exporter": "python",
   "pygments_lexer": "ipython3",
   "version": "3.9.16"
  },
  "orig_nbformat": 4
 },
 "nbformat": 4,
 "nbformat_minor": 2
}
